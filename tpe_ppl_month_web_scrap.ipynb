{
 "cells": [
  {
   "cell_type": "code",
   "execution_count": null,
   "metadata": {},
   "outputs": [],
   "source": [
    "from time import sleep\n",
    "from webdriver_manager.chrome import ChromeDriverManager\n",
    "from selenium.webdriver.common.by import By\n",
    "from selenium import webdriver\n",
    "options = webdriver.ChromeOptions()\n",
    "options.add_argument(\"--incognito\") # incognito mode 使用無痕模式"
   ]
  },
  {
   "cell_type": "code",
   "execution_count": null,
   "metadata": {},
   "outputs": [],
   "source": [
    "# 臺北市每月各里人口數及戶數\n",
    "driver = webdriver.Chrome(ChromeDriverManager().install()) # use chrome browser\n",
    "\n",
    "def visit():\n",
    "    driver.get('https://ca.gov.taipei/News_Content.aspx?n=8693DC9620A1AABF&sms=D19E9582624D83CB&s=6F385E21D02AAFD5')\n",
    "    sleep(3)\n",
    "    \n",
    "def click():\n",
    "    urls= driver.find_elements(By.CSS_SELECTOR,\n",
    "                               \"div.list-text.file-download-multiple>div>div>div>ul>li>span>a\")\n",
    "    print(len(urls))\n",
    "    for url in urls:\n",
    "        url.click()\n",
    "        sleep(5)\n",
    "\n",
    "visit()\n",
    "click()"
   ]
  }
 ],
 "metadata": {
  "kernelspec": {
   "display_name": "Python 3",
   "language": "python",
   "name": "python3"
  },
  "language_info": {
   "codemirror_mode": {
    "name": "ipython",
    "version": 3
   },
   "file_extension": ".py",
   "mimetype": "text/x-python",
   "name": "python",
   "nbconvert_exporter": "python",
   "pygments_lexer": "ipython3",
   "version": "3.7.7"
  }
 },
 "nbformat": 4,
 "nbformat_minor": 4
}
